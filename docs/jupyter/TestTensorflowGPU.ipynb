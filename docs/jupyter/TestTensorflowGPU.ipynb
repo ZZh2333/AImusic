{
 "cells": [
  {
   "cell_type": "code",
   "execution_count": 5,
   "id": "d378bb94-1f58-42e6-9031-df3da4ffcf44",
   "metadata": {},
   "outputs": [],
   "source": [
    "import tensorflow as tf\n",
    "\n",
    "import  warnings\n",
    "warnings.filterwarnings(\"ignore\")"
   ]
  },
  {
   "cell_type": "code",
   "execution_count": 6,
   "id": "b04c9cfd-1cc3-49ba-8ac8-9300db422ac4",
   "metadata": {},
   "outputs": [
    {
     "data": {
      "text/plain": [
       "'2.3.0'"
      ]
     },
     "execution_count": 6,
     "metadata": {},
     "output_type": "execute_result"
    }
   ],
   "source": [
    "tf.__version__"
   ]
  },
  {
   "cell_type": "code",
   "execution_count": 7,
   "id": "723284d3-8303-4ea2-a75b-d4320d0cc5a2",
   "metadata": {},
   "outputs": [
    {
     "data": {
      "text/plain": [
       "True"
      ]
     },
     "execution_count": 7,
     "metadata": {},
     "output_type": "execute_result"
    }
   ],
   "source": [
    "tf.test.is_gpu_available()"
   ]
  },
  {
   "cell_type": "code",
   "execution_count": 10,
   "id": "431a5ec0-c6c9-471b-831c-13f4a0e26745",
   "metadata": {},
   "outputs": [],
   "source": [
    "# tf.config.list_physical_devices('GPU')"
   ]
  }
 ],
 "metadata": {
  "interpreter": {
   "hash": "f0af087873d15cbe4b531304adebc43c17bb11d73bd1ff61f56381920f2a8ce7"
  },
  "kernelspec": {
   "display_name": "Python 3.6.13 64-bit ('AImusic': conda)",
   "name": "python3"
  },
  "language_info": {
   "codemirror_mode": {
    "name": "ipython",
    "version": 3
   },
   "file_extension": ".py",
   "mimetype": "text/x-python",
   "name": "python",
   "nbconvert_exporter": "python",
   "pygments_lexer": "ipython3",
   "version": "3.6.13"
  }
 },
 "nbformat": 4,
 "nbformat_minor": 5
}
